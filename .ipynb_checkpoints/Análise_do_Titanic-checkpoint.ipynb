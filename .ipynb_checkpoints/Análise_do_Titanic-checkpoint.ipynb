{
 "cells": [
  {
   "cell_type": "markdown",
   "id": "321aee4f",
   "metadata": {},
   "source": [
    "# Titanic - Machine Learning from Disaster\n",
    "\n",
    "<img src=\"https://storage.googleapis.com/kaggle-competitions/kaggle/3136/logos/header.png\" width=900>\n",
    "\n",
    "- Vamos utilizar os [dados disponíveis no Kaggle](https://www.kaggle.com/competitions/titanic)\n",
    "    - É um dataset de **competição**\n",
    "    - O resultado é avaliado através da **acurácia**:\n",
    "        - _\"Sua pontuação é a porcentagem de passageiros que você prevê corretamente. Isso é conhecido como acurácia.\"_"
   ]
  },
  {
   "cell_type": "markdown",
   "id": "e860c1c7",
   "metadata": {},
   "source": [
    "### Importando novamente as bases e fazendo o tratamento dos dados\n",
    "- Vamos apenas replicar o que fizemos no **[primeiro](https://github.com/lucaslealx/Titanic/blob/main/Parte1.ipynb)**, **[segundo](https://github.com/lucaslealx/Titanic/blob/main/Parte2.ipynb)** e **[terceiro](https://github.com/lucaslealx/Titanic/blob/main/Parte3.ipynb)** arquivo dessa análise (para visualizar os arquivos completos, visite esse link)"
   ]
  },
  {
   "cell_type": "code",
   "execution_count": null,
   "id": "d3c866a6",
   "metadata": {},
   "outputs": [],
   "source": [
    "# Importando o pandas\n",
    "import pandas as pd"
   ]
  },
  {
   "cell_type": "code",
   "execution_count": null,
   "id": "0c7a7e15",
   "metadata": {},
   "outputs": [],
   "source": [
    "# Visualizando a base de treino\n",
    "treino = pd.read_csv('train.csv')\n",
    "treino.head(3)"
   ]
  },
  {
   "cell_type": "code",
   "execution_count": null,
   "id": "a8bf6800",
   "metadata": {},
   "outputs": [],
   "source": [
    "# Visualizando a base de teste\n",
    "teste = pd.read_csv('test.csv')\n",
    "teste.head(3)"
   ]
  },
  {
   "cell_type": "markdown",
   "id": "da9d4907",
   "metadata": {},
   "source": [
    "- Fazendo o mesmo tratamento inicial que fizemos nas colunas vazias"
   ]
  },
  {
   "cell_type": "code",
   "execution_count": null,
   "id": "bf0433e5",
   "metadata": {},
   "outputs": [],
   "source": [
    "# Eliminando as colunas com elevada cardinalidade\n",
    "treino = treino.drop(['Name','Ticket','Cabin'],axis=1)\n",
    "teste = teste.drop(['Name','Ticket','Cabin'],axis=1)"
   ]
  },
  {
   "cell_type": "code",
   "execution_count": null,
   "id": "fb7cfa69",
   "metadata": {},
   "outputs": [],
   "source": [
    "# Usando a média para substituir valores nulos na coluna de idade\n",
    "treino.loc[treino.Age.isnull(),'Age'] = treino.Age.mean()\n",
    "teste.loc[teste.Age.isnull(),'Age'] = teste.Age.mean()"
   ]
  },
  {
   "cell_type": "code",
   "execution_count": null,
   "id": "5ae224c0",
   "metadata": {},
   "outputs": [],
   "source": [
    "# Tratando a coluna Embarked da base de treino usando a moda \n",
    "treino.loc[treino.Embarked.isnull(),'Embarked'] = treino.Embarked.mode()[0]"
   ]
  },
  {
   "cell_type": "code",
   "execution_count": null,
   "id": "2d38ce71",
   "metadata": {},
   "outputs": [],
   "source": [
    "# E também a coluna Fare da base de teste usando a média\n",
    "teste.loc[teste.Fare.isnull(),'Fare'] = teste.Fare.mean()"
   ]
  },
  {
   "cell_type": "markdown",
   "id": "fb0a6462",
   "metadata": {},
   "source": [
    "- E fazendo a engenharia de variáveis dos nossos dados"
   ]
  },
  {
   "cell_type": "code",
   "execution_count": null,
   "id": "9ef39208",
   "metadata": {},
   "outputs": [],
   "source": [
    "# Usando uma lambda function para tratar a coluna \"Sex\"\n",
    "treino['MaleCheck'] = treino.Sex.apply(lambda x: 1 if x == 'male' else 0)\n",
    "teste['MaleCheck'] = teste.Sex.apply(lambda x: 1 if x == 'male' else 0)"
   ]
  },
  {
   "cell_type": "code",
   "execution_count": null,
   "id": "e062a6fe",
   "metadata": {},
   "outputs": [],
   "source": [
    "# Fazendo o RobustScaler das colunas Age e Fare\n",
    "from sklearn.preprocessing import RobustScaler\n",
    "transformer = RobustScaler().fit(treino[['Age','Fare']])\n",
    "treino[['Age','Fare']] = transformer.transform(treino[['Age','Fare']])\n",
    "\n",
    "# e para a base de teste\n",
    "transformer = RobustScaler().fit(teste[['Age','Fare']])\n",
    "teste[['Age','Fare']] = transformer.transform(teste[['Age','Fare']])"
   ]
  },
  {
   "cell_type": "code",
   "execution_count": null,
   "id": "d3569798",
   "metadata": {},
   "outputs": [],
   "source": [
    "# Adicionando a coluna sozinho\n",
    "def sozinho(a,b):\n",
    "    if (a == 0 and b == 0):\n",
    "        return 1\n",
    "    else:\n",
    "        return 0\n",
    "    \n",
    "treino['Sozinho'] = treino.apply(lambda x: sozinho(x.SibSp,x.Parch),axis=1)\n",
    "teste['Sozinho'] = teste.apply(lambda x: sozinho(x.SibSp,x.Parch),axis=1)"
   ]
  },
  {
   "cell_type": "code",
   "execution_count": null,
   "id": "6379be96",
   "metadata": {},
   "outputs": [],
   "source": [
    "# E criando a coluna de familiares\n",
    "treino['Familiares'] = treino.SibSp + treino.Parch\n",
    "teste['Familiares'] = treino.SibSp + treino.Parch"
   ]
  },
  {
   "cell_type": "code",
   "execution_count": null,
   "id": "25f9b8bb",
   "metadata": {},
   "outputs": [],
   "source": [
    "# Fazendo o OrdinalEncoder para a coluna Embarked\n",
    "from sklearn.preprocessing import OrdinalEncoder\n",
    "categorias = ['S','C','Q']\n",
    "\n",
    "enc = OrdinalEncoder(categories=[categorias],dtype='int32')\n",
    "enc = enc.fit(treino[['Embarked']])\n",
    "treino['Embarked'] = enc.transform(treino[['Embarked']])\n",
    "\n",
    "teste['Embarked'] = enc.transform(teste[['Embarked']])"
   ]
  },
  {
   "cell_type": "code",
   "execution_count": null,
   "id": "81ca0d1c",
   "metadata": {},
   "outputs": [],
   "source": [
    "# Apagando as colunas de texto\n",
    "treino = treino.drop('Sex',axis=1)\n",
    "teste = teste.drop('Sex',axis=1)"
   ]
  },
  {
   "cell_type": "markdown",
   "id": "f1bbb277",
   "metadata": {},
   "source": [
    "- Visualizando a base resultante"
   ]
  },
  {
   "cell_type": "code",
   "execution_count": null,
   "id": "6cfd7f55",
   "metadata": {},
   "outputs": [],
   "source": [
    "# Visualizando a base de treino\n",
    "treino.head(3)"
   ]
  },
  {
   "cell_type": "markdown",
   "id": "6795fb4c",
   "metadata": {},
   "source": [
    "### Podemos utilizar outros modelos para fazer a previsão"
   ]
  },
  {
   "cell_type": "markdown",
   "id": "7a7c3c7f",
   "metadata": {},
   "source": [
    "- Podemos selecionar algoritmos diferentes dos que vimos nas partes anteriores (consulte arquivo da **[parte 1](https://github.com/lucaslealx/Titanic/blob/main/Parte1.ipynb)**) considerando os (outros algoritmos disponíveis no scikit-learn](https://scikit-learn.org/stable/supervised_learning.html#supervised-learning)\n",
    "    - **Regressão Logística**\n",
    "        - https://scikit-learn.org/stable/modules/generated/sklearn.linear_model.LogisticRegression.html#sklearn.linear_model.LogisticRegression\n",
    "    - **Random Forest**\n",
    "        - https://scikit-learn.org/stable/modules/generated/sklearn.ensemble.RandomForestClassifier.html#sklearn.ensemble.RandomForestClassifier\n",
    "    - **MLPClassifier (Redes Neurais)**\n",
    "        - https://scikit-learn.org/stable/modules/generated/sklearn.neural_network.MLPClassifier.html#sklearn.neural_network.MLPClassifier\n",
    "\n",
    "\n",
    "- Agora, **além do train_test_split**:\n",
    "    - https://scikit-learn.org/stable/modules/generated/sklearn.model_selection.train_test_split.html\n",
    "- Vamos usar também o **grid_search** para estimar os melhores parâmetros\n",
    "    - https://scikit-learn.org/stable/modules/generated/sklearn.model_selection.GridSearchCV.html"
   ]
  },
  {
   "cell_type": "code",
   "execution_count": null,
   "id": "f7db06c4",
   "metadata": {},
   "outputs": [],
   "source": [
    "# Importando o train_test_split"
   ]
  },
  {
   "cell_type": "code",
   "execution_count": null,
   "id": "8b931a61",
   "metadata": {},
   "outputs": [],
   "source": [
    "# Separando a base de treino em X e y"
   ]
  },
  {
   "cell_type": "code",
   "execution_count": null,
   "id": "e8bd0d2f",
   "metadata": {},
   "outputs": [],
   "source": [
    "# Separando em treino e validação"
   ]
  },
  {
   "cell_type": "markdown",
   "id": "d7a681fb",
   "metadata": {},
   "source": [
    "- Para a **Regressão Logística**"
   ]
  },
  {
   "cell_type": "code",
   "execution_count": null,
   "id": "acdb8597",
   "metadata": {},
   "outputs": [],
   "source": [
    "# Importando"
   ]
  },
  {
   "cell_type": "code",
   "execution_count": null,
   "id": "57a895ac",
   "metadata": {},
   "outputs": [],
   "source": [
    "# Criando o classificador"
   ]
  },
  {
   "cell_type": "code",
   "execution_count": null,
   "id": "577ab4ba",
   "metadata": {},
   "outputs": [],
   "source": [
    "# Definindo os parâmetros"
   ]
  },
  {
   "cell_type": "markdown",
   "id": "85059259",
   "metadata": {},
   "source": [
    "- Para o **Random Forest**"
   ]
  },
  {
   "cell_type": "code",
   "execution_count": null,
   "id": "340ac902",
   "metadata": {},
   "outputs": [],
   "source": [
    "# Importando"
   ]
  },
  {
   "cell_type": "code",
   "execution_count": null,
   "id": "730fef1c",
   "metadata": {},
   "outputs": [],
   "source": [
    "# Criando o classificador"
   ]
  },
  {
   "cell_type": "code",
   "execution_count": null,
   "id": "c4abfcce",
   "metadata": {},
   "outputs": [],
   "source": [
    "# Definindo os parâmetros"
   ]
  },
  {
   "cell_type": "markdown",
   "id": "41f10e9a",
   "metadata": {},
   "source": [
    "- E para o **MLPClassifier (Redes Neurais)**"
   ]
  },
  {
   "cell_type": "code",
   "execution_count": null,
   "id": "ddb514c5",
   "metadata": {},
   "outputs": [],
   "source": [
    "# Importando"
   ]
  },
  {
   "cell_type": "code",
   "execution_count": null,
   "id": "3a9c4289",
   "metadata": {},
   "outputs": [],
   "source": [
    "# Criando o classificador"
   ]
  },
  {
   "cell_type": "code",
   "execution_count": null,
   "id": "2c92a39f",
   "metadata": {},
   "outputs": [],
   "source": [
    "# Definindo os parâmetros"
   ]
  },
  {
   "cell_type": "markdown",
   "id": "d71bf218",
   "metadata": {},
   "source": [
    "- **Fazendo o grid_search**"
   ]
  },
  {
   "cell_type": "code",
   "execution_count": null,
   "id": "ac638c82",
   "metadata": {},
   "outputs": [],
   "source": [
    "# Ignorando os avisos"
   ]
  },
  {
   "cell_type": "code",
   "execution_count": null,
   "id": "11b7bdf1",
   "metadata": {},
   "outputs": [],
   "source": [
    "# Importando o datetime para visualizar a hora atual"
   ]
  },
  {
   "cell_type": "code",
   "execution_count": null,
   "id": "8d5ef68e",
   "metadata": {},
   "outputs": [],
   "source": [
    "# Importando o KFold e o GridSearchCV"
   ]
  },
  {
   "cell_type": "code",
   "execution_count": null,
   "id": "53a844b8",
   "metadata": {},
   "outputs": [],
   "source": [
    "# Para a Regressão Logística"
   ]
  },
  {
   "cell_type": "code",
   "execution_count": null,
   "id": "35a0e51d",
   "metadata": {},
   "outputs": [],
   "source": [
    "# Para o RandomForest"
   ]
  },
  {
   "cell_type": "code",
   "execution_count": null,
   "id": "33444b4d",
   "metadata": {},
   "outputs": [],
   "source": [
    "# Para o MLPClassifier"
   ]
  },
  {
   "cell_type": "markdown",
   "id": "c93d7022",
   "metadata": {},
   "source": [
    "- **Verificando os melhores scores**"
   ]
  },
  {
   "cell_type": "code",
   "execution_count": null,
   "id": "a0e44b11",
   "metadata": {},
   "outputs": [],
   "source": [
    "# Verificando o melhor score da regressão logística"
   ]
  },
  {
   "cell_type": "code",
   "execution_count": null,
   "id": "d7730812",
   "metadata": {},
   "outputs": [],
   "source": [
    "# Para o RandomForest"
   ]
  },
  {
   "cell_type": "code",
   "execution_count": null,
   "id": "a9af6bb4",
   "metadata": {},
   "outputs": [],
   "source": [
    "# e para o MLPClassifier"
   ]
  },
  {
   "cell_type": "markdown",
   "id": "65c9d920",
   "metadata": {},
   "source": [
    "- **E os melhores parâmetros**"
   ]
  },
  {
   "cell_type": "code",
   "execution_count": null,
   "id": "0bcef275",
   "metadata": {},
   "outputs": [],
   "source": [
    "# Verificando os melhores parâmetros da regressão logística"
   ]
  },
  {
   "cell_type": "code",
   "execution_count": null,
   "id": "9cf159e6",
   "metadata": {},
   "outputs": [],
   "source": [
    "# Para o RandomForest"
   ]
  },
  {
   "cell_type": "code",
   "execution_count": null,
   "id": "c1f0aa91",
   "metadata": {},
   "outputs": [],
   "source": [
    "# e para o MLPClassifier"
   ]
  },
  {
   "cell_type": "markdown",
   "id": "74c90417",
   "metadata": {},
   "source": [
    "- **Fazendo a previsão nos dados de validação com cada um dos melhores modelos**"
   ]
  },
  {
   "cell_type": "code",
   "execution_count": null,
   "id": "10c856c7",
   "metadata": {},
   "outputs": [],
   "source": [
    "# Para a regressão logística"
   ]
  },
  {
   "cell_type": "code",
   "execution_count": null,
   "id": "77f641a2",
   "metadata": {},
   "outputs": [],
   "source": [
    "# Para o RandomForest"
   ]
  },
  {
   "cell_type": "code",
   "execution_count": null,
   "id": "6082be6f",
   "metadata": {},
   "outputs": [],
   "source": [
    "# e para o MLPClassifier"
   ]
  },
  {
   "cell_type": "markdown",
   "id": "d76a8036",
   "metadata": {},
   "source": [
    "- Vamos novamente **avaliar os modelos**\n",
    "    - Acurácia (método de avaliação usado na competição):\n",
    "        - https://scikit-learn.org/stable/modules/generated/sklearn.metrics.accuracy_score.html\n",
    "    - Matriz de confusão (ajuda a visualizar a distribuição dos erros):\n",
    "        - https://scikit-learn.org/stable/modules/generated/sklearn.metrics.confusion_matrix.html"
   ]
  },
  {
   "cell_type": "markdown",
   "id": "bf694913",
   "metadata": {},
   "source": [
    "- Avaliando a **acurácia**"
   ]
  },
  {
   "cell_type": "code",
   "execution_count": null,
   "id": "02fbd240",
   "metadata": {},
   "outputs": [],
   "source": [
    "# Importando\n",
    "from sklearn.metrics import accuracy_score"
   ]
  },
  {
   "cell_type": "code",
   "execution_count": null,
   "id": "708543cc",
   "metadata": {},
   "outputs": [],
   "source": [
    "# Para a Regressão Logística\n",
    "accuracy_score(y_val, y_pred_rl)"
   ]
  },
  {
   "cell_type": "code",
   "execution_count": null,
   "id": "e38b7270",
   "metadata": {},
   "outputs": [],
   "source": [
    "# Para o Random Forest\n",
    "accuracy_score(y_val, y_pred_rf)"
   ]
  },
  {
   "cell_type": "code",
   "execution_count": null,
   "id": "446439ae",
   "metadata": {},
   "outputs": [],
   "source": [
    "# Para o MLPClassifier (Redes Neurais)\n",
    "accuracy_score(y_val, y_pred_mlp)"
   ]
  },
  {
   "cell_type": "markdown",
   "id": "86e8e994",
   "metadata": {},
   "source": [
    "- Avaliando a **matriz de confusão**"
   ]
  },
  {
   "cell_type": "code",
   "execution_count": null,
   "id": "d8265dc0",
   "metadata": {},
   "outputs": [],
   "source": [
    "# Importando\n",
    "from sklearn.metrics import confusion_matrix"
   ]
  },
  {
   "cell_type": "code",
   "execution_count": null,
   "id": "9f7278ae",
   "metadata": {},
   "outputs": [],
   "source": [
    "# Para a Regressão Logística\n",
    "confusion_matrix(y_val, y_pred_rl)"
   ]
  },
  {
   "cell_type": "code",
   "execution_count": null,
   "id": "b4e9c36a",
   "metadata": {},
   "outputs": [],
   "source": [
    "# Para o Random Forest\n",
    "confusion_matrix(y_val, y_pred_rf)"
   ]
  },
  {
   "cell_type": "code",
   "execution_count": null,
   "id": "4edc78f2",
   "metadata": {},
   "outputs": [],
   "source": [
    "# Para o MLPClassifier (Redes Neurais)\n",
    "confusion_matrix(y_val, y_pred_mlp)"
   ]
  },
  {
   "cell_type": "markdown",
   "id": "4656b058",
   "metadata": {},
   "source": [
    "### Fazendo a previsão para os dados de teste\n",
    "- Vamos usar o modelo com melhor precisão para fazer o predict na base de teste"
   ]
  },
  {
   "cell_type": "code",
   "execution_count": null,
   "id": "d316d0f3",
   "metadata": {},
   "outputs": [],
   "source": [
    "# Visualizando o X_train\n",
    "X_train.head(3)"
   ]
  },
  {
   "cell_type": "code",
   "execution_count": null,
   "id": "b97efd5c",
   "metadata": {},
   "outputs": [],
   "source": [
    "# Visualizando a base de teste\n",
    "teste.head(3)"
   ]
  },
  {
   "cell_type": "code",
   "execution_count": null,
   "id": "e34f5ff4",
   "metadata": {},
   "outputs": [],
   "source": [
    "# Para a base de teste ser igual a base de treino, precisamos eliminar a coluna de id\n",
    "X_teste = teste.drop('PassengerId',axis=1)"
   ]
  },
  {
   "cell_type": "code",
   "execution_count": null,
   "id": "f0497a13",
   "metadata": {},
   "outputs": [],
   "source": [
    "# Utilizando o melhor modelo na base de teste"
   ]
  },
  {
   "cell_type": "code",
   "execution_count": null,
   "id": "08fffa82",
   "metadata": {},
   "outputs": [],
   "source": [
    "# Criando uma nova coluna com a previsão na base de teste\n",
    "teste['Survived'] = y_pred"
   ]
  },
  {
   "cell_type": "code",
   "execution_count": null,
   "id": "8b1fb599",
   "metadata": {},
   "outputs": [],
   "source": [
    "# Selecionando apenas a coluna de Id e Survived para fazer o envio\n",
    "base_envio = teste[['PassengerId','Survived']]"
   ]
  },
  {
   "cell_type": "code",
   "execution_count": null,
   "id": "2965c544",
   "metadata": {},
   "outputs": [],
   "source": [
    "# Exportando para um csv\n",
    "base_envio.to_csv('resultados10.csv',index=False)"
   ]
  }
 ],
 "metadata": {
  "kernelspec": {
   "display_name": "Python 3 (ipykernel)",
   "language": "python",
   "name": "python3"
  },
  "language_info": {
   "codemirror_mode": {
    "name": "ipython",
    "version": 3
   },
   "file_extension": ".py",
   "mimetype": "text/x-python",
   "name": "python",
   "nbconvert_exporter": "python",
   "pygments_lexer": "ipython3",
   "version": "3.9.13"
  }
 },
 "nbformat": 4,
 "nbformat_minor": 5
}
